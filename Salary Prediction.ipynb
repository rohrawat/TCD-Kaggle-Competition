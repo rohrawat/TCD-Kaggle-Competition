{
 "cells": [
  {
   "cell_type": "code",
   "execution_count": 67,
   "metadata": {},
   "outputs": [],
   "source": [
    "#Import all Libraries\n",
    "import pandas as pd\n",
    "import numpy as np\n",
    "import seaborn as sns\n",
    "import matplotlib.pyplot as plt\n",
    "from scipy import stats\n",
    "%matplotlib inline"
   ]
  },
  {
   "cell_type": "code",
   "execution_count": 68,
   "metadata": {},
   "outputs": [],
   "source": [
    "#Read Test and Train Data\n",
    "salarytest = pd.read_csv(r'C:\\Users\\Rohit\\Downloads\\tcdml1920-income-ind\\without labels.csv')\n",
    "salary = pd.read_csv(r'C:\\Users\\Rohit\\Downloads\\tcdml1920-income-ind\\tcd ml 2019-20 income prediction training (with labels).csv')"
   ]
  },
  {
   "cell_type": "code",
   "execution_count": 69,
   "metadata": {},
   "outputs": [],
   "source": [
    "#Drop Instance and Income column.\n",
    "salarytest.drop(['Instance', 'Income'],1,inplace = True)\n",
    "salary.drop(['Instance'],1,inplace = True)"
   ]
  },
  {
   "cell_type": "code",
   "execution_count": 70,
   "metadata": {},
   "outputs": [],
   "source": [
    "#Dealing with Missing Values\n",
    "salary['Gender'] = salary['Gender'].fillna('unknown')\n",
    "salary['Gender'] = salary['Gender'].replace('0','unknown')\n",
    "salary['Gender'] = salary['Gender'].replace('other','Other')\n",
    "salarytest['Gender'] = salarytest['Gender'].fillna('unknown')\n",
    "salarytest['Gender'] = salarytest['Gender'].replace('0','unknown')\n",
    "salarytest['Gender'] = salarytest['Gender'].replace('other','Other')\n",
    "#salarytest['Gender'] = salarytest['Gender'].replace('0',np.NaN)\n",
    "salary['University Degree'] = salary['University Degree'].fillna('No')\n",
    "salary['University Degree'] = salary['University Degree'].replace('0','No')\n",
    "salarytest['University Degree'] = salarytest['University Degree'].fillna('N0')\n",
    "salarytest['University Degree'] = salarytest['University Degree'].replace('0','No')\n",
    "#salarytest['University Degree'] = salarytest['University Degree'].replace('0',np.NaN)\n",
    "salary['Hair Color'] = salary['Hair Color'].fillna('other')\n",
    "salary['Hair Color'] = salary['Hair Color'].replace('0','other')\n",
    "salary['Hair Color'] = salary['Hair Color'].replace('Unknown','other')\n",
    "salarytest['Hair Color'] = salarytest['Hair Color'].fillna('other')\n",
    "salarytest['Hair Color'] = salarytest['Hair Color'].replace('0','other')\n",
    "salarytest['Hair Color'] = salarytest['Hair Color'].replace('Unknown','other')\n",
    "#salarytest['Hair Color'] = salarytest['Hair Color'].replace('0',np.NaN)\n",
    "#salary['Year of Record'] = salary['Year of Record'].replace(np.nan,0)\n",
    "#salary['Age'] = salary['Age'].replace(np.nan,0)\n",
    "salary['Year of Record'] = salary['Year of Record'].fillna(salary['Year of Record'].median())\n",
    "salary['Age'] = salary['Age'].fillna(salary['Age'].median())\n",
    "salary['Profession'] = salary['Profession'].fillna('other')\n",
    "salarytest['Year of Record'] = salarytest['Year of Record'].fillna(np.mean(salarytest['Year of Record']))\n",
    "#salarytest['Age'] = salarytest['Age'].replace(np.nan,0)\n",
    "#salarytest['Year of Record'] = salarytest['Year of Record'].replace(0,np.median(salary['Year of Record']))\n",
    "salarytest['Age'] = salarytest['Age'].fillna(np.mean(salarytest['Age']))\n",
    "salarytest['Profession'] = salarytest['Profession'].fillna('other')\n",
    "#salary['Country'] = salary['Country'].replace('0',np.NaN)\n",
    "#salarytest['Country'] = salarytest['Country'].replace('0',np.NaN)\n",
    "#salary['Country'] = salary['Country'].replace('Unknown',np.NaN)\n",
    "#salarytest['Country'] = salarytest['Country'].replace('Unknown',np.NaN)"
   ]
  },
  {
   "cell_type": "code",
   "execution_count": 71,
   "metadata": {},
   "outputs": [],
   "source": [
    "#get Dummies for Gender\n",
    "gender = pd.get_dummies(salary['Gender'],drop_first = True)\n",
    "salary = pd.concat([salary,gender],axis = 1)\n",
    "salary.drop(['Gender'], axis = 1, inplace = True)\n",
    "gendertest = pd.get_dummies(salarytest['Gender'],drop_first = True)\n",
    "salarytest = pd.concat([salarytest,gendertest],axis = 1)\n",
    "salarytest.drop(['Gender'], axis = 1, inplace = True)"
   ]
  },
  {
   "cell_type": "code",
   "execution_count": 72,
   "metadata": {},
   "outputs": [],
   "source": [
    "#get Dummies for Hair Color\n",
    "hair = pd.get_dummies(salary['Hair Color'],drop_first = True)\n",
    "salary = pd.concat([salary,hair],axis = 1)\n",
    "salary.drop(['Hair Color'],axis = 1,inplace = True)\n",
    "hairtest = pd.get_dummies(salarytest['Hair Color'],drop_first = True)\n",
    "salarytest = pd.concat([salarytest,hairtest],axis = 1)\n",
    "salarytest.drop(['Hair Color'],axis = 1,inplace = True)"
   ]
  },
  {
   "cell_type": "code",
   "execution_count": 73,
   "metadata": {},
   "outputs": [],
   "source": [
    "#get Dummies for University Degree\n",
    "deg = pd.get_dummies(salary['University Degree'],drop_first = True)\n",
    "salary = pd.concat([salary,deg],axis = 1)\n",
    "salary.drop(['University Degree'],axis = 1,inplace = True)\n",
    "#salary['University Degree'] = salary['University Degree'].replace('Master',2)\n",
    "#salary['University Degree'] = salary['University Degree'].replace('Bachelor',1)\n",
    "#salary['University Degree'] = salary['University Degree'].replace('No',0)\n",
    "#salary['University Degree'] = salary['University Degree'].replace('PhD',3)\n",
    "degtest = pd.get_dummies(salarytest['University Degree'], drop_first = True)\n",
    "salarytest = pd.concat([salarytest,degtest],axis = 1)\n",
    "salarytest.drop(['University Degree'],axis = 1,inplace = True)\n",
    "#salarytest['University Degree'] = salarytest['University Degree'].replace('Master',2)\n",
    "#salarytest['University Degree'] = salarytest['University Degree'].replace('Bachelor',1)\n",
    "#salarytest['University Degree'] = salarytest['University Degree'].replace('No',0)\n",
    "#salarytest['University Degree'] = salarytest['University Degree'].replace('PhD',3)"
   ]
  },
  {
   "cell_type": "code",
   "execution_count": 74,
   "metadata": {},
   "outputs": [],
   "source": [
    "country = salary['Country'].value_counts()\n",
    "countrytest = salarytest['Country'].value_counts()"
   ]
  },
  {
   "cell_type": "code",
   "execution_count": 75,
   "metadata": {},
   "outputs": [],
   "source": [
    "profession = salary['Profession'].value_counts()\n",
    "professiontest = salarytest['Profession'].value_counts()"
   ]
  },
  {
   "cell_type": "code",
   "execution_count": 76,
   "metadata": {},
   "outputs": [],
   "source": [
    "salary['newcountry'] = 0\n",
    "salary['newprofession'] = 0\n",
    "salarytest['newcountry'] = 0\n",
    "salarytest['newprofession'] = 0"
   ]
  },
  {
   "cell_type": "code",
   "execution_count": 77,
   "metadata": {},
   "outputs": [],
   "source": [
    "#Response encoding for Country\n",
    "for i in country.index:\n",
    "    temp = salary[salary['Country']==i]\n",
    "    #a = sum(temp['Income in EUR'])/temp.shape[0]\n",
    "    salary.loc[salary['Country']==i, 'newcountry'] = ((np.mean(temp['Income in EUR']) * len(temp)) +(10 * np.mean(salary['Income in EUR'])))/(len(temp)+10)\n",
    "    salarytest.loc[salarytest['Country']==i,'newcountry'] = ((np.mean(temp['Income in EUR']) * len(temp)) +(10 * np.mean(salary['Income in EUR'])))/(len(temp)+10)\n",
    "    \n",
    "    \n",
    "    \n",
    "    \n",
    "    \n",
    "    \n",
    "#for i in countrytest.index:\n",
    "    #salarytest['newcountry'][salarytest['Country']==i] = salary['newcountry'][salary['Country']==i].values[1]"
   ]
  },
  {
   "cell_type": "code",
   "execution_count": 78,
   "metadata": {},
   "outputs": [],
   "source": [
    "#Response endcoding for Profession\n",
    "for i in profession.index:\n",
    "    temp = salary[salary['Profession']==i]\n",
    "    #a = sum(temp['Income in EUR'])/temp.shape[0]\n",
    "    salary.loc[salary['Profession']==i,'newprofession'] = ((np.mean(temp['Income in EUR']) * len(temp)) + (10 * np.mean(salary['Income in EUR'])))/(len(temp)+10)\n",
    "    salarytest.loc[salarytest['Profession']==i,'newprofession'] = ((np.mean(temp['Income in EUR']) * len(temp)) + (10 * np.mean(salary['Income in EUR'])))/(len(temp)+10)\n",
    "#salarytest['newprofession'] = salary['newprofession']"
   ]
  },
  {
   "cell_type": "code",
   "execution_count": 79,
   "metadata": {},
   "outputs": [],
   "source": [
    "salary.drop(['Country','Profession'],axis = 1, inplace = True)\n",
    "salarytest.drop(['Country','Profession'],axis = 1, inplace = True)"
   ]
  },
  {
   "cell_type": "code",
   "execution_count": 80,
   "metadata": {},
   "outputs": [],
   "source": [
    "salarytest['newcountry'] = salarytest['newcountry'].replace(0,np.mean(salarytest['newcountry']))\n",
    "salarytest['newprofession'] = salarytest['newprofession'].replace(0,np.mean(salarytest['newprofession']))"
   ]
  },
  {
   "cell_type": "code",
   "execution_count": 81,
   "metadata": {},
   "outputs": [],
   "source": [
    "from sklearn.model_selection import train_test_split"
   ]
  },
  {
   "cell_type": "code",
   "execution_count": 82,
   "metadata": {},
   "outputs": [],
   "source": [
    "Y = salary['Income in EUR']\n",
    "X = salary.drop(['Income in EUR', 'Blond','Brown', 'Red', 'other','Wears Glasses'],axis = 1)\n",
    "Xtest = salarytest.drop(['Blond','Brown','Red','other','Wears Glasses'], axis  = 1)"
   ]
  },
  {
   "cell_type": "code",
   "execution_count": null,
   "metadata": {},
   "outputs": [],
   "source": [
    "#function for scaling\n",
    "def normalize(x):\n",
    "    return (x - np.min(x))/(np.max(x)-np.min(x))"
   ]
  },
  {
   "cell_type": "code",
   "execution_count": null,
   "metadata": {},
   "outputs": [],
   "source": [
    "X = X.apply(normalize)\n",
    "Xtest = Xtest.apply(normalize)"
   ]
  },
  {
   "cell_type": "code",
   "execution_count": 85,
   "metadata": {},
   "outputs": [],
   "source": [
    "X_train, X_test,Y_train, Y_test = train_test_split(X,Y,train_size = 0.9)"
   ]
  },
  {
   "cell_type": "code",
   "execution_count": null,
   "metadata": {},
   "outputs": [],
   "source": [
    "from sklearn.ensemble import RandomForestRegressor"
   ]
  },
  {
   "cell_type": "code",
   "execution_count": null,
   "metadata": {},
   "outputs": [],
   "source": [
    "rf = RandomForestRegressor(n_estimators = 700)"
   ]
  },
  {
   "cell_type": "code",
   "execution_count": null,
   "metadata": {},
   "outputs": [],
   "source": [
    "rf.fit(X_train,Y_train)"
   ]
  },
  {
   "cell_type": "code",
   "execution_count": null,
   "metadata": {},
   "outputs": [],
   "source": [
    "ypred = rf.predict(X_test)"
   ]
  },
  {
   "cell_type": "code",
   "execution_count": 90,
   "metadata": {},
   "outputs": [],
   "source": [
    "from sklearn.metrics import mean_squared_error"
   ]
  },
  {
   "cell_type": "code",
   "execution_count": 91,
   "metadata": {},
   "outputs": [],
   "source": [
    "mse = mean_squared_error(Y_test,ypred)"
   ]
  },
  {
   "cell_type": "code",
   "execution_count": 92,
   "metadata": {},
   "outputs": [],
   "source": [
    "import math"
   ]
  },
  {
   "cell_type": "code",
   "execution_count": 93,
   "metadata": {},
   "outputs": [
    {
     "data": {
      "text/plain": [
       "63072.040157719486"
      ]
     },
     "execution_count": 93,
     "metadata": {},
     "output_type": "execute_result"
    }
   ],
   "source": [
    "math.sqrt(mse)"
   ]
  },
  {
   "cell_type": "code",
   "execution_count": null,
   "metadata": {},
   "outputs": [],
   "source": [
    "ypred = rf.predict(Xtest)"
   ]
  },
  {
   "cell_type": "code",
   "execution_count": null,
   "metadata": {},
   "outputs": [],
   "source": [
    "ypred = pd.DataFrame(ypred)"
   ]
  },
  {
   "cell_type": "code",
   "execution_count": null,
   "metadata": {},
   "outputs": [],
   "source": [
    "ypred.to_csv(r'C:\\Users\\Rohit\\Downloads\\tcdml1920-income-ind\\result10.csv')"
   ]
  },
  {
   "cell_type": "code",
   "execution_count": null,
   "metadata": {},
   "outputs": [],
   "source": [
    "#Tried Hyperparameter tuning but getting memory allocation error\n",
    "#n_estimators = [int(x) for x in np.linspace(start = 200, stop = 2000, num = 10)]\n",
    "#max_features = ['auto', 'sqrt']\n",
    "#max_depth = [int(x) for x in np.linspace(10, 110, num = 11)]\n",
    "#max_depth.append(None)\n",
    "#min_samples_split = [2, 5, 10]\n",
    "#min_samples_leaf = [1, 2, 4]\n",
    "#bootstrap = [True, False]\n",
    "#random_grid = {'n_estimators': n_estimators,\n",
    "#               'max_features': max_features,\n",
    "#               'max_depth': max_depth,\n",
    "#               'min_samples_split': min_samples_split,\n",
    "#               'min_samples_leaf': min_samples_leaf,\n",
    "#               'bootstrap': bootstrap}"
   ]
  },
  {
   "cell_type": "code",
   "execution_count": null,
   "metadata": {},
   "outputs": [],
   "source": [
    "#from sklearn.model_selection import RandomizedSearchCV"
   ]
  },
  {
   "cell_type": "code",
   "execution_count": null,
   "metadata": {},
   "outputs": [],
   "source": [
    "#rf_random = RandomizedSearchCV(estimator = rf, param_distributions = random_grid, n_iter = 50, cv = 4, verbose=2, random_state=42, n_jobs = 4)"
   ]
  },
  {
   "cell_type": "code",
   "execution_count": null,
   "metadata": {},
   "outputs": [],
   "source": [
    "#rf_random.fit(X,Y)"
   ]
  }
 ],
 "metadata": {
  "kernelspec": {
   "display_name": "Python 3",
   "language": "python",
   "name": "python3"
  },
  "language_info": {
   "codemirror_mode": {
    "name": "ipython",
    "version": 3
   },
   "file_extension": ".py",
   "mimetype": "text/x-python",
   "name": "python",
   "nbconvert_exporter": "python",
   "pygments_lexer": "ipython3",
   "version": "3.7.3"
  }
 },
 "nbformat": 4,
 "nbformat_minor": 2
}
